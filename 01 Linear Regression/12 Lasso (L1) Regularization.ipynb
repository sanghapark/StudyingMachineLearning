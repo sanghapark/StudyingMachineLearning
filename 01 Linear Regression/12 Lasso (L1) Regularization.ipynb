{
 "cells": [
  {
   "cell_type": "markdown",
   "metadata": {},
   "source": [
    "# Lasso (L1) Regularization\n",
    "\n",
    "* Goal: Select a small number of important features that predict the trend\n",
    "* Don't let noise influence output\n",
    "* We call this sparsity\n",
    "* Few weights are non-zero; most will be 0"
   ]
  },
  {
   "cell_type": "markdown",
   "metadata": {},
   "source": [
    "Ridge (L2) Regularization used L1 norm for penalty term. <br>\n",
    "Lasso (L1) Regularization uses L2 norm for penalty term."
   ]
  },
  {
   "cell_type": "markdown",
   "metadata": {},
   "source": [
    "$\n",
    "J_{RIDGE} = \\sum\\limits_{i=1}^N(y_i-\\hat{y_i})^2 + \\lambda{\\lVert{w}\\rVert_2}^2\n",
    "$"
   ]
  },
  {
   "cell_type": "markdown",
   "metadata": {},
   "source": [
    "$\n",
    "J_{LASSO} = \\sum\\limits_{i=1}^N(y_i-\\hat{y_i})^2 + \\lambda{\\lVert{w}\\rVert_1}\n",
    "$"
   ]
  },
  {
   "cell_type": "markdown",
   "metadata": {},
   "source": [
    "### Tip: Norm\n",
    "$\n",
    "{\\lVert{w}\\rVert_1} = |w| \\\\\n",
    "{\\lVert{w}\\rVert_2} = \\sqrt{w_1^2 + w_2^2 + \\cdots + w_n^2}\n",
    "$"
   ]
  },
  {
   "cell_type": "markdown",
   "metadata": {},
   "source": [
    "# Let's optimize the cost function."
   ]
  },
  {
   "cell_type": "markdown",
   "metadata": {},
   "source": [
    "$\n",
    "E = (Y-Xw)^T(Y-Xw) + \\lambda |w| \\\\\n",
    " = Y^TY - Y^TXw - (Xw)^TY + (Xw)^TXw + \\lambda |w| \\\\\n",
    " = Y^TY - Y^TXw - w^TX^TY + w^TX^TXw + \\lambda |w|\n",
    "$"
   ]
  },
  {
   "cell_type": "markdown",
   "metadata": {},
   "source": [
    "$\n",
    "\\frac{\\partial{E}}{\\partial{w}} = -2X^Ty + 2X^TXw + \\lambda{sign(w)}\n",
    "$\n",
    "<br><br>\n",
    "Set it equal to zero <br>\n",
    "<br>\n",
    "$\n",
    "X^TY - X^TXw + \\lambda{sign(w)} = 0 \\\\\n",
    "X^T(Y-Xw) + \\lambda{sign(w)} = 0\n",
    "$\n",
    "<br><br>\n",
    "$\n",
    "sign(x) = 1 \\text{ if } x > 0, -1 \\text{ if } x < 0, 0 \\text{ if } x = 0\n",
    "$"
   ]
  },
  {
   "cell_type": "markdown",
   "metadata": {},
   "source": [
    "We cannot solve for w. <br>\n",
    "Let's use <strong>Gradient Descent</strong>."
   ]
  },
  {
   "cell_type": "markdown",
   "metadata": {},
   "source": [
    "### Tip: Derivative of Absolute Value of x\n",
    "$\n",
    "\\frac{d}{dx}|x| = \\frac{|x|}{x}\n",
    "$"
   ]
  },
  {
   "cell_type": "code",
   "execution_count": null,
   "metadata": {
    "collapsed": true
   },
   "outputs": [],
   "source": []
  },
  {
   "cell_type": "markdown",
   "metadata": {},
   "source": [
    "# Lasso (L1) Regularization Programming"
   ]
  },
  {
   "cell_type": "markdown",
   "metadata": {},
   "source": [
    "* Write code that demonstrates the use of L1 regularization.\n",
    "* The strategy is to generate some data where the input is a fat matrix and y will only depend on a few of the features.\n",
    "* The rest of them will just be noise.\n",
    "* Use L1 Regularization to see if we can find a sparse set of weights that identifies the useful dimentions of that."
   ]
  },
  {
   "cell_type": "code",
   "execution_count": 3,
   "metadata": {},
   "outputs": [],
   "source": [
    "%matplotlib inline\n",
    "import numpy as np\n",
    "import matplotlib.pyplot as plt"
   ]
  },
  {
   "cell_type": "code",
   "execution_count": 16,
   "metadata": {
    "collapsed": true
   },
   "outputs": [],
   "source": [
    "N, D = 50, 50"
   ]
  },
  {
   "cell_type": "code",
   "execution_count": 40,
   "metadata": {},
   "outputs": [
    {
     "data": {
      "image/png": "[encoded data removed]",
      "text/plain": [
       "<matplotlib.figure.Figure at 0x11d18fb00>"
      ]
     },
     "metadata": {},
     "output_type": "display_data"
    },
    {
     "name": "stdout",
     "output_type": "stream",
     "text": [
      "[  9.66244717e-01   4.47628752e-01  -4.43331371e-01  -1.03174457e-02\n",
      "  -2.59375393e-03  -5.49478751e-03  -1.25011161e-02  -3.96974528e-03\n",
      "  -2.26527060e-02  -8.08154191e-02   4.95412398e-05   1.02500762e-02\n",
      "  -1.11936306e-03   1.28690354e-03  -2.22491937e-02  -6.50717319e-03\n",
      "  -1.25235832e-02   1.39335108e-02  -5.02282800e-04   1.06179983e-02\n",
      "   5.04372808e-03  -5.58095537e-03  -3.15270132e-03   2.17110042e-03\n",
      "   4.50091950e-03   1.81757220e-02   1.18169528e-02   2.41309473e-02\n",
      "  -4.49777400e-03  -7.47710382e-03   1.59926539e-02   4.19715660e-03\n",
      "  -1.36919908e-02  -1.47600999e-03  -5.26303576e-02   4.90866328e-03\n",
      "   3.81066149e-03  -7.04473410e-02   5.25906551e-03   2.77866426e-03\n",
      "  -6.17144648e-03   1.04984290e-02   2.99994203e-02   3.56747276e-02\n",
      "   1.52302342e-02   8.78361471e-04  -6.95489011e-03  -1.05367352e-02\n",
      "   4.79425756e-02   1.14061021e-02]\n"
     ]
    },
    {
     "data": {
      "image/png": "[encoded data removed]",
      "text/plain": [
       "<matplotlib.figure.Figure at 0x11d50cac8>"
      ]
     },
     "metadata": {},
     "output_type": "display_data"
    }
   ],
   "source": [
    "X = (np.random.random((N, D)) - 0.5) * 10\n",
    "true_w = np.array([1, 0.5, -0.5] + [0]*(D-3))\n",
    "Y = X.dot(true_w) + np.random.randn(N)*0.5\n",
    "\n",
    "costs = []\n",
    "w = np.random.normal(0, np.sqrt(1/D), D)\n",
    "learning_rate = 0.001\n",
    "l1 = 10.0\n",
    "\n",
    "for i in range(20):\n",
    "    Yhat = X.dot(w)\n",
    "    delta = Yhat - Y\n",
    "    w = w - learning_rate*(X.T.dot(delta) + l1*np.sign(w))\n",
    "    mse = delta.dot(delta) / N\n",
    "    costs.append(mse)\n",
    "    \n",
    "plt.plot(costs)\n",
    "plt.show()\n",
    "plt.plot(true_w, label='true w')\n",
    "plt.plot(w, label='estimated w')\n",
    "plt.legend()\n",
    "print(w)\n"
   ]
  },
  {
   "cell_type": "markdown",
   "metadata": {},
   "source": [
    "* We see that things that have to be zero are close to zero.\n",
    "* Notice that in L2 regularization we solved for w in closed form. \n",
    "* However, for L1 regularization, we were not able to find w in closed form. So we used gradient descent."
   ]
  },
  {
   "cell_type": "markdown",
   "metadata": {},
   "source": []
  },
  {
   "cell_type": "code",
   "execution_count": null,
   "metadata": {
    "collapsed": true
   },
   "outputs": [],
   "source": []
  },
  {
   "cell_type": "code",
   "execution_count": null,
   "metadata": {
    "collapsed": true
   },
   "outputs": [],
   "source": []
  },
  {
   "cell_type": "code",
   "execution_count": null,
   "metadata": {
    "collapsed": true
   },
   "outputs": [],
   "source": []
  }
 ],
 "metadata": {
  "kernelspec": {
   "display_name": "Python 3",
   "language": "python",
   "name": "python3"
  },
  "language_info": {
   "codemirror_mode": {
    "name": "ipython",
    "version": 3
   },
   "file_extension": ".py",
   "mimetype": "text/x-python",
   "name": "python",
   "nbconvert_exporter": "python",
   "pygments_lexer": "ipython3",
   "version": "3.6.2"
  }
 },
 "nbformat": 4,
 "nbformat_minor": 2
}
