{
 "cells": [
  {
   "cell_type": "markdown",
   "metadata": {},
   "source": [
    "# Simple Linear Regression"
   ]
  },
  {
   "cell_type": "markdown",
   "metadata": {},
   "source": [
    "$\\hat{y_i} = ax_i + b$"
   ]
  },
  {
   "cell_type": "markdown",
   "metadata": {},
   "source": [
    "### Sum of Squared Errors"
   ]
  },
  {
   "cell_type": "markdown",
   "metadata": {},
   "source": [
    "$\n",
    "Error = \\sum\\limits_{i=1}^N {(y_i - \\hat{y_i})}^2\n",
    "$"
   ]
  },
  {
   "cell_type": "markdown",
   "metadata": {},
   "source": [
    "Substitude with our model for a line"
   ]
  },
  {
   "cell_type": "markdown",
   "metadata": {},
   "source": [
    "$\n",
    "E = \\sum\\limits_{i=1}^N {(y_i - (ax_i + b))}^2\n",
    "$"
   ]
  },
  {
   "cell_type": "markdown",
   "metadata": {},
   "source": [
    "We want to minimize the error with respect to a and b. <br>\n",
    "E is a function of 2 variables, therefore, we need to use partial derivatives."
   ]
  },
  {
   "cell_type": "markdown",
   "metadata": {},
   "source": [
    "### Derivative of E with respect to a"
   ]
  },
  {
   "cell_type": "markdown",
   "metadata": {},
   "source": [
    "$\n",
    "\\frac{\\partial E}{\\partial a} = -2\\sum\\limits_{i=1}^N {(y_i-(ax_i+b))x_i}\n",
    "$"
   ]
  },
  {
   "cell_type": "markdown",
   "metadata": {},
   "source": [
    " $\n",
    " -2\\sum\\limits_{i=1}^N ({y_i-(ax_i+b))x_i}) = 0\n",
    " $"
   ]
  },
  {
   "cell_type": "markdown",
   "metadata": {},
   "source": [
    "$\n",
    "a\\sum\\limits_{i=1}^N {x_i^2} + b\\sum\\limits_{i=1}^N {x_i} = \\sum\\limits_{i=1}^N {y_ix_i}\n",
    "$"
   ]
  },
  {
   "cell_type": "markdown",
   "metadata": {},
   "source": [
    "We have two unknowns, a and b, but only 1 equation. <br>\n",
    "We still need to take the partial derivatie of E with respect to b."
   ]
  },
  {
   "cell_type": "markdown",
   "metadata": {},
   "source": [
    "### Derivative of E with respect to b"
   ]
  },
  {
   "cell_type": "markdown",
   "metadata": {},
   "source": [
    "$\n",
    "\\frac{\\partial E}{\\partial b} = -2\\sum\\limits_{i=1}^N {(y_i-(ax_i+b))}\n",
    "$"
   ]
  },
  {
   "cell_type": "markdown",
   "metadata": {},
   "source": [
    "$\n",
    "-2\\sum\\limits_{i=1}^N {(y_i-(ax_i+b))} = 0\n",
    "$"
   ]
  },
  {
   "cell_type": "markdown",
   "metadata": {},
   "source": [
    "$\n",
    "a\\sum\\limits_{i=1}^N {x_i} + bN = \\sum\\limits_{i=1}^N{y_i}\n",
    "$"
   ]
  },
  {
   "cell_type": "markdown",
   "metadata": {},
   "source": [
    "We have 2 equations and 2 unknowns, a and b."
   ]
  },
  {
   "cell_type": "markdown",
   "metadata": {},
   "source": [
    "$\n",
    "a\\sum\\limits_{i=1}^N {x_i^2} + b\\sum\\limits_{i=1}^N {x_i} = \\sum\\limits_{i=1}^N {y_ix_i} \\\\\n",
    "a\\sum\\limits_{i=1}^N {x_i} + bN = \\sum\\limits_{i=1}^N{y_i}\n",
    "$"
   ]
  },
  {
   "cell_type": "markdown",
   "metadata": {},
   "source": [
    "$\n",
    "A = \\sum\\limits_{i=1}^N{x_i^2},  B=\\sum\\limits_{i=1}^N {x_i}, C=\\sum\\limits_{i=1}^N {y_ix_i}, D = \\sum\\limits_{i=1}^N{y_i}\n",
    "$"
   ]
  },
  {
   "cell_type": "markdown",
   "metadata": {},
   "source": [
    "$\n",
    "Aa + Bb = C \\\\\n",
    "Ba + bN = D\n",
    "$"
   ]
  },
  {
   "cell_type": "markdown",
   "metadata": {},
   "source": [
    "Solve for a and b."
   ]
  },
  {
   "cell_type": "markdown",
   "metadata": {},
   "source": [
    "$\n",
    "a = \\frac{CN-BD}{AN-B^2} = \\frac{N\\sum\\limits_{i=1}^N {y_ix_i} - \\sum\\limits_{i=1}^N {x_i}\\sum\\limits_{i=1}^N{y_i}}{N\\sum\\limits_{i=1}^N{x_i^2}-(\\sum\\limits_{i=1}^N {x_i})^2} \\\\\n",
    "b = \\frac{BC-AD}{B^2-AN} = \\frac{\\sum\\limits_{i=1}^N {x_i}\\sum\\limits_{i=1}^N {y_ix_i} - \\sum\\limits_{i=1}^N{x_i^2}\\sum\\limits_{i=1}^N{y_i}}{(\\sum\\limits_{i=1}^N {x_i})^2-N\\sum\\limits_{i=1}^N{x_i^2}}\n",
    "$"
   ]
  },
  {
   "cell_type": "markdown",
   "metadata": {},
   "source": [
    "$\n",
    "\\bar{x} = \\frac{1}{N}\\sum\\limits_{i=1}^N{x_i} \\\\\n",
    "\\bar{xy} = \\frac{1}{N}\\sum\\limits_{i=1}^N{x_iy_i}\n",
    "$"
   ]
  },
  {
   "cell_type": "markdown",
   "metadata": {},
   "source": [
    "$\n",
    "a = \\frac{\\bar{xy}-\\bar{x}\\bar{y}}{\\bar{x^2}-\\bar{x}^2} = \\frac{\\sum\\limits_{i=1}^N{y_ix_i}-\\bar{y}\\sum\\limits_{i=1}^N{x_i}}{\\sum\\limits_{i=1}^N{x_i^2}-\\bar{x}\\sum\\limits_{i=1}^N{x_i}} \\\\\n",
    "b = \\frac{\\bar{y}\\bar{x^2}-\\bar{x}\\bar{xy}}{\\bar{x^2}-\\bar{x}^2} = \\frac{\\bar{y}\\sum\\limits_{i=1}{x_i^2}-\\bar{x}\\sum\\limits_{i=1}{y_ix_i}}{\\sum\\limits_{i=1}{x_i^2}-\\bar{x}\\sum\\limits_{i=1}^N{x_i}}\n",
    "$"
   ]
  },
  {
   "cell_type": "markdown",
   "metadata": {},
   "source": [
    "# Let's code!"
   ]
  },
  {
   "cell_type": "code",
   "execution_count": 1,
   "metadata": {
    "collapsed": true
   },
   "outputs": [],
   "source": [
    "%matplotlib inline\n",
    "import numpy as np\n",
    "import matplotlib.pyplot as plt"
   ]
  },
  {
   "cell_type": "code",
   "execution_count": 2,
   "metadata": {},
   "outputs": [],
   "source": [
    "X = []\n",
    "Y = []\n",
    "for line in open('data_1d.csv'):\n",
    "    x, y = line.split(',')\n",
    "    X.append(float(x))\n",
    "    Y.append(float(y))"
   ]
  },
  {
   "cell_type": "code",
   "execution_count": 6,
   "metadata": {},
   "outputs": [
    {
     "data": {
      "image/png": "[encoded data removed]",
      "text/plain": [
       "<matplotlib.figure.Figure at 0x10f834e48>"
      ]
     },
     "metadata": {},
     "output_type": "display_data"
    }
   ],
   "source": [
    "X = np.array(X)\n",
    "Y = np.array(Y)\n",
    "\n",
    "\n",
    "deno = X.dot(X) - X.mean()*X.sum()\n",
    "a = (Y.dot(X) - Y.mean()*X.sum()) / deno\n",
    "b = (Y.mean()*X.dot(X) - X.mean()*Y.dot(X)) / deno\n",
    "Y_hat = a*X + b\n",
    "plt.scatter(X, Y)\n",
    "plt.plot(X, Y_hat)\n",
    "plt.show()\n",
    "\n"
   ]
  },
  {
   "cell_type": "markdown",
   "metadata": {},
   "source": [
    "How good is the model? $R^2$"
   ]
  },
  {
   "cell_type": "markdown",
   "metadata": {},
   "source": [
    "$\n",
    "R^2 \\equiv 1 - \\frac{SS_{res}}{SS_{tot}} \\\\\n",
    "SS_{res} \\equiv \\sum\\limits_{i=1}^N({y_i - \\hat{y_i})^2} \\\\\n",
    "SS_{tot} \\equiv \\sum\\limits_{i=1}^N({y_i - \\bar{y_i})^2}\n",
    "$"
   ]
  },
  {
   "cell_type": "markdown",
   "metadata": {},
   "source": [
    "# Let's calculate $R^2$"
   ]
  },
  {
   "cell_type": "code",
   "execution_count": 4,
   "metadata": {},
   "outputs": [
    {
     "data": {
      "text/plain": [
       "0.99071378767131202"
      ]
     },
     "execution_count": 4,
     "metadata": {},
     "output_type": "execute_result"
    }
   ],
   "source": [
    "ss_res = (Y-Y_hat).dot(Y-Y_hat)\n",
    "ss_tot = (Y-Y.mean()).dot(Y-Y.mean())\n",
    "r2 = 1 - (ss_res/ss_tot)\n",
    "r2"
   ]
  }
 ],
 "metadata": {
  "kernelspec": {
   "display_name": "Python 3",
   "language": "python",
   "name": "python3"
  },
  "language_info": {
   "codemirror_mode": {
    "name": "ipython",
    "version": 3
   },
   "file_extension": ".py",
   "mimetype": "text/x-python",
   "name": "python",
   "nbconvert_exporter": "python",
   "pygments_lexer": "ipython3",
   "version": "3.6.2"
  }
 },
 "nbformat": 4,
 "nbformat_minor": 2
}
