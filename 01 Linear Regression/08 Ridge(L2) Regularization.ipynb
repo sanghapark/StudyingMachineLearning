{
 "cells": [
  {
   "cell_type": "markdown",
   "metadata": {},
   "source": [
    "# Ridge (L2) Regularization\n"
   ]
  },
  {
   "cell_type": "markdown",
   "metadata": {},
   "source": [
    "$\n",
    "Error = \\sum\\limits_{i=1}^N{(y_i - \\hat{y_i})^2} + \\lambda|w|^2 \\\\\n",
    "\\hat{y} = w^TX \\\\\n",
    "|w|^2 = w^Tw = w_1^2 + w_2^2 + ... + w_D^2\n",
    "$"
   ]
  },
  {
   "cell_type": "markdown",
   "metadata": {},
   "source": [
    "$\n",
    "E = (Y - Xw)^T(Y-Xw) + \\lambda w^Tw \\\\\n",
    "E = Y^TY = 2Y^TXw+w^TX^TXw + \\lambda w^Tw \\\\\n",
    "\\frac{\\partial J}{\\partial w} = -2X^TY + 2X^TXw + 2\\lambda w = 0 \\\\\n",
    "(\\lambda I + X^TX)w = X^TY \\\\\n",
    "w = (\\lambda I + X^TX)^{-1}X^TY\n",
    "$"
   ]
  },
  {
   "cell_type": "code",
   "execution_count": 27,
   "metadata": {},
   "outputs": [
    {
     "data": {
      "text/plain": [
       "<matplotlib.legend.Legend at 0x119c805f8>"
      ]
     },
     "execution_count": 27,
     "metadata": {},
     "output_type": "execute_result"
    },
    {
     "data": {
      "image/png": "[encoded data removed]",
      "text/plain": [
       "<matplotlib.figure.Figure at 0x119493518>"
      ]
     },
     "metadata": {},
     "output_type": "display_data"
    }
   ],
   "source": [
    "%matplotlib inline\n",
    "import numpy as np\n",
    "import matplotlib.pyplot as plt\n",
    "\n",
    "N = 50\n",
    "X = np.linspace(0, 10, N)\n",
    "Y = X*0.5 + np.random.randn(N)\n",
    "\n",
    "Y[-1] += 30\n",
    "Y[-2] += 30\n",
    "\n",
    "plt.scatter(X, Y)\n",
    "\n",
    "X = np.vstack([np.ones(N), X]).T\n",
    "w = np.linalg.solve(X.T.dot(X), X.T.dot(Y))\n",
    "plt.plot(X[:,1], X.dot(w), c='r', label='MLE') \n",
    "\n",
    "l2 = 1000.0\n",
    "w = np.linalg.solve(l2*np.eye(2) + X.T.dot(X), X.T.dot(Y))\n",
    "plt.plot(X[:, 1], X.dot(w), c='g', label='MAP')\n",
    "plt.legend()"
   ]
  }
 ],
 "metadata": {
  "kernelspec": {
   "display_name": "Python 3",
   "language": "python",
   "name": "python3"
  },
  "language_info": {
   "codemirror_mode": {
    "name": "ipython",
    "version": 3
   },
   "file_extension": ".py",
   "mimetype": "text/x-python",
   "name": "python",
   "nbconvert_exporter": "python",
   "pygments_lexer": "ipython3",
   "version": "3.6.2"
  }
 },
 "nbformat": 4,
 "nbformat_minor": 2
}
