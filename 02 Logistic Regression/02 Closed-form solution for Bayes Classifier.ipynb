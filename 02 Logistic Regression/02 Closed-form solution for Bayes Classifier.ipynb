{
 "cells": [
  {
   "cell_type": "markdown",
   "metadata": {},
   "source": [
    "# Problem Description\n",
    "* 2 Gaussian Clouds\n",
    "* Both have the same covariance, but different means\n",
    "* Multivariate Gaussian PDF"
   ]
  },
  {
   "cell_type": "markdown",
   "metadata": {},
   "source": [
    "$\n",
    "p(x) = \\frac{1}{\\sqrt{(2\\pi)^D\\lvert \\Sigma \\rvert}}\\exp({-\\frac{1}{2}(x-\\mu)^T\\Sigma^{-1}(x-\\mu)})\n",
    "$"
   ]
  },
  {
   "cell_type": "code",
   "execution_count": 18,
   "metadata": {},
   "outputs": [
    {
     "data": {
      "text/plain": [
       "<matplotlib.collections.PathCollection at 0x11ae1cf98>"
      ]
     },
     "execution_count": 18,
     "metadata": {},
     "output_type": "execute_result"
    },
    {
     "data": {
      "image/png": "[encoded data removed]",
      "text/plain": [
       "<matplotlib.figure.Figure at 0x11a982828>"
      ]
     },
     "metadata": {},
     "output_type": "display_data"
    }
   ],
   "source": [
    "%matplotlib inline\n",
    "import numpy as np\n",
    "import matplotlib.pyplot as plt\n",
    "X = np.random.randn(1000, 2) + 3\n",
    "X2 = np.random.randn(1000, 2) + 6\n",
    "plt.scatter(X[:,0], X[:,1], c='b')\n",
    "plt.scatter(X2[:, 0], X2[:, 1], c= 'r')"
   ]
  },
  {
   "cell_type": "markdown",
   "metadata": {},
   "source": [
    "# Bayes' Rule\n",
    "\n",
    "$$\n",
    "p(y\\mid x) = \\frac{p(x\\mid y)p(y)}{p(x)} \\\\\n",
    "$$\n",
    "\n",
    "# Likelihood\n",
    "$$\n",
    "p(y=1\\mid x) = \\frac{p(x\\mid y=1)p(y=1)}{p(x)} \\\\\n",
    "p(y=0\\mid x) = \\frac{p(x\\mid y=0)p(y=0)}{p(x)}\n",
    "$$\n",
    "\n",
    "$P(X\\mid Y)$ is Gaussian distributed. <br>\n",
    "We can find mean and variance by applying <strong>Maximum Likelihood Estimation (MLE)</strong>\n",
    "\n",
    "# Put it into the logistic regression framework\n",
    "\n",
    "Manipulate Bayes' Rule\n",
    "$$\n",
    "p(y=1\\mid x) = \\frac{p(x\\mid y=1)p(y=1)}{p(x)} = \\frac{p(x\\mid y=1)p(y=1)}{p(x\\mid y=1)p(y=1) + p(x\\mid y=0)p(y=0)}\n",
    "$$\n",
    "<br><br>\n",
    "Divide numerator and denominator by $p(x\\mid y=1)p(y=1)$\n",
    "<br><br>\n",
    "$$\n",
    "p(y=1\\mid x) = \\frac{1}{1 + \\frac{p(x\\mid y=0)p(y=0)}{p(x\\mid y=1)p(y=1)}}\n",
    "$$\n",
    "<br><br>\n",
    "Looks a lot like a logistic function. <br>\n",
    "Let $p(y=1) = 1-\\alpha$, $p(y=0)=\\alpha$.\n",
    "<br><br>\n",
    "$$\n",
    "\\ln{\\frac{p(x\\mid y=0)p(y=0)}{p(x\\mid y=1)p(y=1)}} \\\\\n",
    "= \\ln{p(x\\mid y=0)} + \\ln{\\alpha} - \\ln{p(x \\mid y=1)}-\\ln{(1-\\alpha)}\n",
    "$$ \n",
    "<br><br>\n",
    "Plug Gaussian PDF into likelihoods.\n",
    "<br><br>\n",
    "$$\n",
    "= \\ln{\\frac{1}{\\sqrt{(2\\pi)^D\\lvert \\Sigma \\rvert}}\\exp\\Big({-\\frac{1}{2}(x-\\mu_0)^T\\Sigma^{-1}(x-\\mu_0)}\\Big)} - \\ln{\\frac{1}{\\sqrt{(2\\pi)^D\\lvert \\Sigma \\rvert}}\\exp\\Big({-\\frac{1}{2}(x-\\mu_1)^T\\Sigma^{-1}(x-\\mu_1)}\\Big)} + \\ln{\\frac{\\alpha}{1-\\alpha}}\n",
    "$$\n",
    "<br><br>\n",
    "$1/\\sqrt{(...)}$ terms cancel out.\n",
    "<br><br>\n",
    "$$\n",
    "= -\\frac{1}{2}\\big(x^T\\Sigma^{-1}x - x^T\\Sigma^{-1}\\mu_0 - {\\mu_0}^T\\Sigma^{-1}x+{\\mu_0}^T\\Sigma^{-1}\\mu_0 \\big)+\\frac{1}{2}\\big(x^T\\Sigma^{-1}x - x^T\\Sigma^{-1}\\mu_1 - {\\mu_1}^T\\Sigma^{-1}x+{\\mu_1}^T\\Sigma^{-1}\\mu_1 \\big)+\\ln{\\frac{\\alpha}{1-\\alpha}}\n",
    "$$\n",
    "<br><br>\n",
    "Quadratic term cancels out because the covariance matrixes are the same (Linear Discriminant Analysis's Assumption).\n",
    "<br><br>\n",
    "$x^T\\Sigma^{-1}\\mu$ is equal to $\\mu^T\\Sigma^{-1}x$ because covariance matrix is symmetric and then inverse of symmetric matrix is also symmetric. (Try prove yourself.)\n",
    "<br><br>\n",
    "$$\n",
    " = \\mu_0^T\\Sigma^{-1}x - {\\mu_1}^T\\Sigma^{-1}x - \\frac{1}{2}{\\mu_0}^T\\Sigma^{-1}\\mu_0 + \\frac{1}{2}{\\mu_1}^T\\Sigma^{-1}\\mu_1 + \\ln{\\frac{\\alpha}{1-\\alpha}} \\\\\n",
    " = ({\\mu_0}^T-{\\mu_1}^T)\\Sigma^{-1}x - \\frac{1}{2}{\\mu_0}^T\\Sigma^{-1}\\mu_0 + \\frac{1}{2}{\\mu_1}^T\\Sigma^{-1}\\mu_1 + \\ln{\\frac{\\alpha}{1-\\alpha}} \\\\\n",
    " = -(w^Tx + b)\n",
    "$$"
   ]
  },
  {
   "cell_type": "markdown",
   "metadata": {},
   "source": [
    "# Finally\n",
    "\n",
    "$$\n",
    "w^T = ({\\mu_1}^T - {\\mu_0}^T)\\Sigma^{-1} \\\\\n",
    "b = \\frac{1}{2}{\\mu_0}^T\\Sigma^{-1}\\mu_0 + \\frac{1}{2}{\\mu_1}^T\\Sigma^{-1}\\mu_1 + \\ln{\\frac{\\alpha}{1-\\alpha}}\n",
    "$$\n",
    "\n",
    "###### If covariance is a diagonal matrix (Naive Bayes), what happens to the equations above?\n",
    "###### If we have different covariances (Quadratic Discriminant Analysis) what happens?\n",
    "  * The quatratic terms no longer cancel out.\n",
    "  \n",
    "###### The solution above is optimal provided that the assumptions we made about the distributions are true.\n",
    "###### Generally we use gradient descent which is more generally applicable."
   ]
  },
  {
   "cell_type": "code",
   "execution_count": null,
   "metadata": {
    "collapsed": true
   },
   "outputs": [],
   "source": [
    "\n",
    "\n",
    "\n",
    "\n",
    "\n",
    "\n",
    "\n",
    "\n",
    "\n",
    "\n",
    "\n",
    "\n",
    "\n",
    "\n",
    "\n",
    "\n",
    "\n",
    "\n",
    "\n",
    "\n",
    "\n",
    "\n",
    "\n",
    "\n",
    "\n",
    "\n",
    "\n",
    "\n",
    "\n",
    "\n",
    "\n",
    "\n",
    "\n",
    "\n",
    "\n",
    "\n",
    "\n",
    "\n",
    "\n",
    "\n",
    "\n"
   ]
  }
 ],
 "metadata": {
  "kernelspec": {
   "display_name": "Python 3",
   "language": "python",
   "name": "python3"
  },
  "language_info": {
   "codemirror_mode": {
    "name": "ipython",
    "version": 3
   },
   "file_extension": ".py",
   "mimetype": "text/x-python",
   "name": "python",
   "nbconvert_exporter": "python",
   "pygments_lexer": "ipython3",
   "version": "3.6.2"
  }
 },
 "nbformat": 4,
 "nbformat_minor": 2
}
